{
  "nbformat": 4,
  "nbformat_minor": 0,
  "metadata": {
    "colab": {
      "provenance": []
    },
    "kernelspec": {
      "name": "python3",
      "display_name": "Python 3"
    },
    "language_info": {
      "name": "python"
    }
  },
  "cells": [
    {
      "cell_type": "markdown",
      "source": [
        "1. Find the value of T(2) for the recurrence relation T(n) = 3T(n-1) + 12n, given that T(0) = 5."
      ],
      "metadata": {
        "id": "p9tN7Z3be6ou"
      }
    },
    {
      "cell_type": "markdown",
      "source": [
        "T(n) = 3T(n-1) + 12n   --> (1)\n",
        "\n",
        "put n=n-1  in above equation\n",
        "\n",
        "T(n-1) = 3T(n-2) + 12 (n-1)  --> (2)\n",
        "\n",
        "Now put equation 2 in equation 1\n",
        "\n",
        "T(n) = 3 * (3T(n-2) + 12(n-1)) + 12n\n",
        "\n",
        "Now put n=2 in above equation\n",
        "\n",
        "T(2) = 3 * ( 3T(0) + 12(1) ) + 12 * 2\n",
        "\n",
        "T(2) = 3 * ( 3 * 5 + 12 ) + 24\n",
        "\n",
        "T(2) = 81 + 24\n",
        "\n",
        "T(2) = 105"
      ],
      "metadata": {
        "id": "N1FfvRHzkk-i"
      }
    },
    {
      "cell_type": "markdown",
      "source": [
        "2. Given a recurrence relation, solve it using the substitution method:"
      ],
      "metadata": {
        "id": "LE6iatwJmoPI"
      }
    },
    {
      "cell_type": "markdown",
      "source": [
        "a. T(n) = T(n-1) + c"
      ],
      "metadata": {
        "id": "h0viW6yOm1uX"
      }
    },
    {
      "cell_type": "markdown",
      "source": [
        "T(n) = T(n-1) + c  --> 1\n",
        "\n",
        "put n = n-1  in equation 1\n",
        "\n",
        "T(n-1) = T(n-2) + c\n",
        "\n",
        "Now put this T(n-1) value in equation 1\n",
        "\n",
        "T(n) = T(n-2) + c + c  ---> 2\n",
        "\n",
        "now put n = n-2 in equation 1 and  then put the value of T(n-2) in equation 2\n",
        "\n",
        "T(n) = T(n-3) + c + c + c ---> 3\n",
        "\n",
        "substitute k times\n",
        "\n",
        "equation will become\n",
        "\n",
        "T(n) = T(n-k) + k.c ---> 4\n",
        "\n",
        "when n-k = 1  --here complexity becomes T(1) constant\n",
        "\n",
        "      (n-1) = k  put in equation 4\n",
        "\n",
        "\n",
        "T(n) = T(n-(n-1)) + (n-1) c\n",
        "\n",
        "    = T(1) + (n-1) c\n",
        "\n",
        "    = 1 + (n-1) c\n",
        "\n",
        "  T(n)  = O(n * C) = O(n)\n",
        "\n",
        "  so the time complexity is O(n)\n",
        "\n"
      ],
      "metadata": {
        "id": "QmDb-mY-m8P0"
      }
    },
    {
      "cell_type": "markdown",
      "source": [
        "b. T(n) = 2T(n/2) + n"
      ],
      "metadata": {
        "id": "ZroPnK5hKODd"
      }
    },
    {
      "cell_type": "markdown",
      "source": [
        "T(n) = 2T(n/2) + n --> 1\n",
        "\n",
        "substitute n = n/2\n",
        "\n",
        "T(n/2) = 2T(n/4) + n/2\n",
        "\n",
        "now put above value in equation 1\n",
        "\n",
        "T(n) = 2(2T(n/4) + n/2) + n\n",
        "\n",
        "T(n) =4T(n/4) + 2n ------> 2\n",
        "\n",
        "now after substituting n = n/4 in equation 1 and putting this value in equation 2 we get\n",
        "\n",
        "T(n) = 2^3T(n/2^3) + 3n  -----> 3\n",
        "\n",
        "\n",
        "When we substitute the value of n upto k time then the equation will become\n",
        "\n",
        "T(n) = 2^k T(n/2^k) + kn ---> 4\n",
        "\n",
        "put n/2^k = 1 at this point recurssion will stop\n",
        "\n",
        "n/2^k = 1\n",
        "\n",
        "n = 2^k\n",
        "\n",
        "logn = k log2 = k  here log has base 2\n",
        "\n",
        "k = logn\n",
        "\n",
        "put k value in equation 4\n",
        "\n",
        "T(n) = 2^logn T(n/2^logn) + n logn\n",
        "\n",
        "     = n^log2 T(n/n^log2) + n logn\n",
        "\n",
        "     = n T(1) + n logn\n",
        "\n",
        "     = n + n logn\n",
        "\n",
        "     = o(n logn)  dominant complexity\n",
        "\n",
        "T(n) = O( n logn )\n",
        "\n",
        "The time complexity is O(n logn)"
      ],
      "metadata": {
        "id": "7HvBa0woKU9M"
      }
    },
    {
      "cell_type": "markdown",
      "source": [
        "c. T(n) = 2T(n/2) + c"
      ],
      "metadata": {
        "id": "LzRU1gpgWqgB"
      }
    },
    {
      "cell_type": "markdown",
      "source": [
        "T(n) = 2T(n/2) + c   ----> 1\n",
        "\n",
        "substitute n = n/2 in equation 1\n",
        "\n",
        "T(n/2) = 2T(n/4) + c\n",
        "\n",
        "put above value in equation 1\n",
        "\n",
        "T(n) = 2 (2T(n/4) + c) + c\n",
        "\n",
        "     = 4T(n/4) + 3c\n",
        "\n",
        "T(n)  = 2^2 T(n/2^2) + (2^2 -1)c ---> 2\n",
        "\n",
        "When we substitute n value for k time we get the equation\n",
        "\n",
        "T(n) = 2^k T(n/2^k) + (2^k -1) c ---> k th equation\n",
        "\n",
        "\n",
        "put n/2^k = 1 at this point recurssion will stop\n",
        "\n",
        "n/2^k = 1\n",
        "\n",
        "2^k = n\n",
        "\n",
        "k log2 = logn\n",
        "\n",
        "k = logn\n",
        "\n",
        "put k value in k th equation\n",
        "\n",
        "T(n) = 2^logn T(n/2^logn) + (2^logn -1)c\n",
        "\n",
        "     = n^log2 T(n/n^log2) + (n^log2 -1)c\n",
        "\n",
        "     = n T(1) + n * c\n",
        "\n",
        "     = O(n)\n",
        "\n",
        "T(n) = O(n)\n",
        "\n",
        "Time complexity is O(n)"
      ],
      "metadata": {
        "id": "xoOlPickc_4p"
      }
    },
    {
      "cell_type": "markdown",
      "source": [
        "d. T(n) = T(n/2) + c"
      ],
      "metadata": {
        "id": "qMVV1T3_f-Wd"
      }
    },
    {
      "cell_type": "markdown",
      "source": [
        "T(n) = T(n/2) + c  -----> 1\n",
        "\n",
        "substitute n = n/2\n",
        "\n",
        "T(n/2) = T(n/4) + c\n",
        "\n",
        "put above value in equation 1\n",
        "\n",
        "T(n) = T(n/4) + 2c\n",
        "\n",
        "T(n) = T(n/2^2) + 2c -----> 2\n",
        "\n",
        "if we substitute n for k times we will get the equation\n",
        "\n",
        "T(n) = T(n/2^k) + kc -----> k th equation\n",
        "\n",
        "put n/2^k = 1 --recurssion stop\n",
        "\n",
        " n = 2^k\n",
        " logn = k log2\n",
        "\n",
        " k = logn\n",
        "\n",
        " put k in k th equation\n",
        "\n",
        " T(n) = T(n/2^logn) + c * logn\n",
        "\n",
        "      = T(n/n^log2) + c * logn\n",
        "\n",
        "     = O(logn)\n",
        "\n",
        "T(n) = O(logn)\n",
        "\n",
        "Time complexity is O(logn)"
      ],
      "metadata": {
        "id": "AUV4mAkngDn1"
      }
    },
    {
      "cell_type": "markdown",
      "source": [
        "3. Given a recurrence relation, solve it using the recursive three approach:"
      ],
      "metadata": {
        "id": "CW_NhrvCiY48"
      }
    },
    {
      "cell_type": "markdown",
      "source": [
        "a. T(n) = 2T(n-1) + 1"
      ],
      "metadata": {
        "id": "mxqf2cPUixcs"
      }
    },
    {
      "cell_type": "markdown",
      "source": [
        " T(n) will split into two branchs left and right\n",
        "\n",
        " left--> (n-1) , right--> (n-1)\n",
        "\n",
        "\n",
        "again both of them  split into left and right\n",
        "\n",
        "\n",
        "When we recursively call it for k times the left side will be n-k=1\n",
        "\n",
        "and right side will be n-k=1\n",
        "\n",
        "\n",
        "so for both side the k = n-1\n",
        "approximately k = n\n",
        "\n",
        "\n",
        "so Ignore constant and lower-oder terms, resulting in O(n) time complexity\n",
        "\n",
        "Time complexity : O(n)"
      ],
      "metadata": {
        "id": "it5y9kiFuSWM"
      }
    },
    {
      "cell_type": "markdown",
      "source": [
        "b. T(n) = 2T(n/2) + n"
      ],
      "metadata": {
        "id": "yHI_ZuKj2At-"
      }
    },
    {
      "cell_type": "markdown",
      "source": [
        "n  will split into two children representing two recursive calls 2T(n/2)\n",
        "\n",
        "\n",
        "The input size halves at each level (n/2, n/4, n/8, ......).\n",
        "\n",
        "level 1: n units (n term in the recurrence)\n",
        "\n",
        "level 2: n/2 units\n",
        "\n",
        "level 3: n/4 units\n",
        "\n",
        "level k: n/(2^k) units\n",
        "\n",
        "Sum the work across all levels:\n",
        "\n",
        " Total work: n + n/2 + n/4 + --- + n/(2^k)\n",
        "\n",
        " This is a geometric series with a sum of n*(1-(1/2)^k/(1-1/2)= 2n-n/(2^(k-1))\n",
        "\n",
        " k=logn(since n/(2^k) = 1).\n",
        "\n",
        "\n",
        " substitute k: total work = 2n-n/(2^(logn-1)) = 2n-n/n = n\n",
        "\n",
        " ignoring the constant term, we get: O(n) time complexity."
      ],
      "metadata": {
        "id": "bI9Ujn7t2H5h"
      }
    },
    {
      "cell_type": "code",
      "source": [],
      "metadata": {
        "id": "mReft_dGfbCY"
      },
      "execution_count": null,
      "outputs": []
    }
  ]
}